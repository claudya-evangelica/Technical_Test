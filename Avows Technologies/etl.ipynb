{
 "cells": [
  {
   "cell_type": "markdown",
   "metadata": {},
   "source": [
    "EXTRACT"
   ]
  },
  {
   "cell_type": "code",
   "execution_count": null,
   "metadata": {},
   "outputs": [],
   "source": [
    "import pandas as pd\n",
    "df = pd.read_csv('DE_daily_sales.csv')\n",
    "df.info()"
   ]
  },
  {
   "cell_type": "markdown",
   "metadata": {},
   "source": [
    "TRANSFORM"
   ]
  },
  {
   "cell_type": "code",
   "execution_count": null,
   "metadata": {},
   "outputs": [],
   "source": [
    "# Convert Transaction Date dtype from object into datetime \n",
    "df['Transaction_Date'] = pd.to_datetime(df['Transaction_Date'])\n",
    "df.info()\n",
    "display(df)"
   ]
  },
  {
   "cell_type": "code",
   "execution_count": null,
   "metadata": {},
   "outputs": [],
   "source": [
    "# Drop rows with empty Price\n",
    "df_notnull = df.dropna(subset=['Price'])\n",
    "\n",
    "# compare before after drop rows \n",
    "before = df.shape[0]\n",
    "after = df_notnull.shape[0]\n",
    "print('Total row (all) : ', before)\n",
    "print('Total row (non-empty price) : ',after )"
   ]
  },
  {
   "cell_type": "code",
   "execution_count": null,
   "metadata": {},
   "outputs": [],
   "source": [
    "# Drop duplicate rows\n",
    "df_distinct = df_notnull.drop_duplicates(subset=['Transaction_ID'])\n",
    "# compare before after drop rows \n",
    "before = df_notnull.shape[0]\n",
    "after = df_distinct.shape[0]\n",
    "print('Total row (non-empty price) : ', before)\n",
    "print('Total row (distinct Transaction ID) : ',after )"
   ]
  },
  {
   "cell_type": "code",
   "execution_count": null,
   "metadata": {},
   "outputs": [],
   "source": [
    "# Add column Total Revenue (Quantity * Price)\n",
    "df_clean = df_distinct.copy()\n",
    "df_clean['Total_Revenue'] = df_clean['Quantity'] * df_clean['Price']\n",
    "display(df_clean)"
   ]
  },
  {
   "cell_type": "markdown",
   "metadata": {},
   "source": [
    "LOAD"
   ]
  },
  {
   "cell_type": "code",
   "execution_count": null,
   "metadata": {},
   "outputs": [],
   "source": [
    "# Export clean data to csv file\n",
    "df_clean.to_csv('daily_sales_cleaned.csv', index=False)"
   ]
  },
  {
   "cell_type": "markdown",
   "metadata": {},
   "source": [
    "Create Table in Postgresql using\n",
    "\n",
    "-- Membuat table daily_sales_cleaned\n",
    "CREATE TABLE daily_sales_cleaned (\n",
    "    transaction_id VARCHAR(50),\n",
    "    product_id INTEGER,\n",
    "    quantity INTEGER,\n",
    "    price NUMERIC(10, 2),\n",
    "    transaction_date DATE,\n",
    "    total_revenue NUMERIC(10, 2)\n",
    ");\n"
   ]
  },
  {
   "cell_type": "code",
   "execution_count": null,
   "metadata": {},
   "outputs": [],
   "source": [
    "# Load to Postgresql\n",
    "import psycopg2 \n",
    "import numpy as np \n",
    "import psycopg2.extras as extras \n",
    "    \n",
    "def execute_values(conn, df_clean, table): \n",
    "  \n",
    "    tuples = [tuple(x) for x in df_clean.to_numpy()] \n",
    "  \n",
    "    cols = ','.join(list(df_clean.columns)) \n",
    "    # SQL query to execute \n",
    "    query = \"INSERT INTO %s(%s) VALUES %%s\" % (table, cols) \n",
    "    cursor = conn.cursor() \n",
    "    try: \n",
    "        extras.execute_values(cursor, query, tuples) \n",
    "        conn.commit() \n",
    "    except (Exception, psycopg2.DatabaseError) as error: \n",
    "        print(\"Error: %s\" % error) \n",
    "        conn.rollback() \n",
    "        cursor.close() \n",
    "        return 1\n",
    "    print(\"the dataframe is inserted\") \n",
    "    cursor.close() \n",
    "  \n",
    "  \n",
    "conn = psycopg2.connect( \n",
    "    database=\"postgres\", user='postgres', password='password', host='localhost', port='5432'\n",
    ") \n",
    "\n",
    "execute_values(conn, df_clean, 'daily_sales_cleaned') \n"
   ]
  },
  {
   "cell_type": "markdown",
   "metadata": {},
   "source": [
    "\n",
    "\n",
    "\n",
    "\n",
    "\n",
    "\n",
    "Data Analysis"
   ]
  },
  {
   "cell_type": "code",
   "execution_count": null,
   "metadata": {},
   "outputs": [],
   "source": [
    "# Monthly Revenue Trend\n",
    "\n",
    "import matplotlib.pyplot as plt\n",
    "df_clean = df_distinct.copy()\n",
    "df_clean['Total_Revenue'] = df_clean['Quantity'] * df_clean['Price']\n",
    "df_clean.set_index('Transaction_Date', inplace=True)\n",
    "# Grouping revenue by month\n",
    "monthly_revenue = df_clean.resample('M')['Total_Revenue'].sum()\n",
    "# Plotting\n",
    "plt.figure(figsize=(10, 6))\n",
    "monthly_revenue.plot(kind='line', color='blue')\n",
    "plt.title('Monthly Revenue Trend', fontsize=16)\n",
    "plt.xlabel('Month', fontsize=12)\n",
    "plt.ylabel('Revenue', fontsize=12)\n",
    "plt.grid()\n",
    "plt.show()"
   ]
  },
  {
   "cell_type": "code",
   "execution_count": null,
   "metadata": {},
   "outputs": [],
   "source": [
    "# Sales by Day of the Week\n",
    "\n",
    "import seaborn as sns\n",
    "df_clean = df_distinct.copy()\n",
    "df_clean['Total_Revenue'] = df_clean['Quantity'] * df_clean['Price']\n",
    "df_clean['day_of_week'] = df_clean['Transaction_Date'].dt.day_name()\n",
    "# Grouping by day of the week\n",
    "sales_by_day = df_clean.groupby('day_of_week')['Total_Revenue'].sum()\n",
    "# Plotting\n",
    "plt.figure(figsize=(10, 6))\n",
    "sns.barplot(x=sales_by_day.index, y=sales_by_day.values, palette='pastel')\n",
    "plt.title('Sales by Day of the Week', fontsize=16)\n",
    "plt.xlabel('Day of the Week', fontsize=12)\n",
    "plt.ylabel('Total Revenue', fontsize=12)\n",
    "plt.show()"
   ]
  },
  {
   "cell_type": "code",
   "execution_count": null,
   "metadata": {},
   "outputs": [],
   "source": [
    "#Quantity vs Revenue analysis\n",
    "\n",
    "df_clean = df_distinct.copy()\n",
    "df_clean['Total_Revenue'] = df_clean['Quantity'] * df_clean['Price']\n",
    "plt.figure(figsize=(10, 6))\n",
    "plt.scatter(df_clean['Quantity'], df_clean['Total_Revenue'], alpha=0.5, c='green')\n",
    "plt.title('Quantity vs. Revenue', fontsize=16)\n",
    "plt.xlabel('Quantity', fontsize=12)\n",
    "plt.ylabel('Revenue', fontsize=12)\n",
    "plt.grid()\n",
    "plt.show()"
   ]
  }
 ],
 "metadata": {
  "kernelspec": {
   "display_name": "base",
   "language": "python",
   "name": "python3"
  },
  "language_info": {
   "codemirror_mode": {
    "name": "ipython",
    "version": 3
   },
   "file_extension": ".py",
   "mimetype": "text/x-python",
   "name": "python",
   "nbconvert_exporter": "python",
   "pygments_lexer": "ipython3",
   "version": "3.12.7"
  }
 },
 "nbformat": 4,
 "nbformat_minor": 2
}
